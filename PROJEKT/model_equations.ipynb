{
 "cells": [
  {
   "cell_type": "markdown",
   "metadata": {},
   "source": [
    "##Equations for model\n",
    "\n",
    "**Primary productivity** (Gabric et al 2004)\n",
    "\n",
    "$\\frac{dP}{dt} = P(\\mu - \\chi)(1-P_{ice})$ where $P_{ice}$ = proportional ice cover \n",
    "\n",
    "$\\mu$ = growth rate = $\\mu_{0} R_{L} R_{T}$\n",
    "\n",
    "$\\mu_{0}$ = base growth rate =  0.79\n",
    "\n",
    "$R_{L}$ = light correction factor = $\\frac {\\frac{I}{I_k}} { \\sqrt{1+ \\frac{I}{I_k}^{2}}}$\n",
    "\n",
    "$I_k$ = saturating light intensity\n",
    "\n",
    "$I$ = current percieved light intensity (PAR) = $ I + \\Delta F$ \n",
    "\n",
    "\n",
    "Conversion factor from PAR in $W/m^{2}$ (in forcing equation) to  Einsteins/$m^{2}$/day (in OceanColor database): \n",
    "\n",
    "$1 W m^{-2}$ = 4.6 $\\mu E m^{-2} s^{-1} $\n",
    "\n",
    "$R_{T}$ = $e^{0.063(T-T_{max})}$ \n",
    "\n",
    "$T$ = current mixed layer temperature\n",
    "\n",
    "$T_{max}$ = maximum annual mixed layer temperature"
   ]
  },
  {
   "cell_type": "markdown",
   "metadata": {},
   "source": [
    "**2) DMS concentration**\n",
    "\n",
    "In this model, DMS is directly proportional to primary productivity, given by a scaling factor which I choose so that the resulting concentration ranges match observed concentrations \n",
    "\n",
    "$\\frac{dDMS}{dt}$ = $\\gamma \\frac{dP}{dt}$ , $\\gamma = 1.5$"
   ]
  },
  {
   "cell_type": "markdown",
   "metadata": {},
   "source": [
    "**3) DMS flux**\n",
    "\n",
    "transfer velocity ($k_{w}$) calculations (Liss and Merlivat (1986)):\n",
    "\n",
    "$Flux_{DMS} = k_{w}[DMS]$\n",
    "\n",
    "where:\n",
    "\n",
    "w = windspeed (m/s)\n",
    "\n",
    "$k_{w} = \\alpha0.17w$ for $w \\leq 3.6$\n",
    "\n",
    "$k_{w} = \\beta(2.85w - 10.3) + 0.61\\alpha$ for $3.6<w\\leq 13$\n",
    "\n",
    "$k_{w} = \\beta(5.9w - 49.9) + 0.61\\alpha$ for $w > 13$\n",
    "\n",
    "$\\alpha = (600/Sc)^{2/3}$\n",
    "\n",
    "$\\beta = (600/Sc)^{1/2}$\n",
    "\n",
    "Where Sc is the Schmidt number, which depends on sea surface temperature as follows:\n",
    "\n",
    "$Sc = 2674.0 − 147.12(SST) + 3.726(SST)^{2} − 0.038(SST)^{3}$"
   ]
  },
  {
   "cell_type": "markdown",
   "metadata": {},
   "source": [
    "**4) CCN**\n",
    "\n",
    "Base numbers of CCN for Arctic (initial value): $76 cm^{-3}$ (low clouds present) - $250 cm^{-3}$ (no low clouds) (Yum 2001) (I plan to get an average initial CCN using percent cloud cover at the start)\n",
    "\n",
    "Best parametrization I found for effect of DMS flux on CCN:\n",
    "\n",
    "Woodhouse 2010 - sensitivity parameter .02. (.02% change in CCN for 1% change in DMS flux)\n",
    "\n",
    "$\\frac{\\frac{dCCN}{dt}}{CCN}$ = 0.02$\\frac{\\frac{dFlux_{DMS}}{dt}}{Flux_{DMS}}$ \n"
   ]
  },
  {
   "cell_type": "markdown",
   "metadata": {},
   "source": [
    "**Radiative Forcing**\n",
    "\n",
    "(Meskhidze 2006)\n",
    "\n",
    "$\\frac{dF}{dt}  = \\frac{-1}{3} FA_{c}R_{c}(1-R_{c})\\Delta N_{db}$\n",
    "\n",
    "where $F$ = perceived light intensity\n",
    "\n",
    "$A_{c}$ = cloud cover fraction, $R_{c}$ = cloud albedo, $\\Delta N_{db}$ = $\\frac{\\frac{dCCN}{dt}}{CCN}$"
   ]
  },
  {
   "cell_type": "code",
   "execution_count": null,
   "metadata": {
    "collapsed": true
   },
   "outputs": [],
   "source": []
  }
 ],
 "metadata": {
  "kernelspec": {
   "display_name": "Python 3",
   "language": "python",
   "name": "python3"
  },
  "language_info": {
   "codemirror_mode": {
    "name": "ipython",
    "version": 3
   },
   "file_extension": ".py",
   "mimetype": "text/x-python",
   "name": "python",
   "nbconvert_exporter": "python",
   "pygments_lexer": "ipython3",
   "version": "3.4.3"
  }
 },
 "nbformat": 4,
 "nbformat_minor": 0
}
