{
 "cells": [
  {
   "cell_type": "code",
   "execution_count": null,
   "metadata": {
    "collapsed": false
   },
   "outputs": [],
   "source": []
  },
  {
   "cell_type": "code",
   "execution_count": 1,
   "metadata": {
    "collapsed": true
   },
   "outputs": [],
   "source": [
    "import netCDF4\n",
    "from netCDF4 import Dataset\n",
    "import numpy as np\n",
    "from types import *\n",
    "import numpy.ma as ma\n",
    "import collections"
   ]
  },
  {
   "cell_type": "code",
   "execution_count": 2,
   "metadata": {
    "collapsed": false
   },
   "outputs": [
    {
     "name": "stdout",
     "output_type": "stream",
     "text": [
      "--\n",
      "-89.875\n",
      "0.125\n"
     ]
    }
   ],
   "source": [
    "filelist = 'ice/icec.day.mean.2014.v2.nc'\n",
    "with Dataset(filelist) as nc:\n",
    "    #print(nc.variables)\n",
    "    icec=nc.variables['icec'][...]\n",
    "    lat =nc.variables['lat'][...] \n",
    "    lon = nc.variables['lon'][...]\n",
    "    time = nc.variables['time'][...]\n",
    "\n",
    "#dealing with the mask in icec - assuming it's a value of 0\n",
    "#figuring out how to make this mask took me a solid frustrating half-hour\n",
    "\n",
    "w = icec[0,0,0]\n",
    "print(w)\n",
    "lat[0]\n",
    "print(lat[0])\n",
    "print(lon[0])\n",
    "le_mask = np.ma.getmask(icec)\n",
    "icec[le_mask]=0"
   ]
  },
  {
   "cell_type": "code",
   "execution_count": 3,
   "metadata": {
    "collapsed": false
   },
   "outputs": [
    {
     "name": "stdout",
     "output_type": "stream",
     "text": [
      "94\n",
      "12\n",
      "OrderedDict([('Jan', 0.63693327985894321), ('Feb', 0.62924240484724359), ('Mar', 0.63499356862064982), ('April', 0.64566071784149737), ('May', 0.63465923324469109), ('June', 0.5861443399044205), ('July', 0.51750045766369912), ('Aug', 0.44709988751108026), ('Sep', 0.39287093040621268), ('Oct', 0.47709095102516669), ('Nov', 0.59925397003185976), ('Dec', 0.63148838859020306)])\n"
     ]
    }
   ],
   "source": [
    "#how long is our year? Is it a leapyear? \n",
    "lenyear = len(time);\n",
    "if (lenyear == 366):\n",
    "    leapyear = True;\n",
    "else:\n",
    "    leapyear = False;\n",
    "\n",
    "#getting the day-of-year index right\n",
    "firstday = (time[0]) -1 ;\n",
    "newtime = time - firstday;\n",
    "\n",
    "#making a subset - arctic circle and April-October\n",
    "\n",
    "\n",
    "ArcticCircleLat = 66.562778\n",
    "#a circuitous way to find the arctic circle indices\n",
    "LatCircle = np.where(lat> 66.562778)\n",
    "LatCircle = LatCircle[0]\n",
    "latlen = len(LatCircle)\n",
    "print(latlen)\n",
    "latstart = (LatCircle[0])\n",
    "latend = (LatCircle[latlen-1])\n",
    "\n",
    "start_indices = [1,32,60,91,121,152,182,213,244,274,305,335]\n",
    "print(len(start_indices))\n",
    "end_indices = [32,60,91,121,152,182,213,244,274,305,335,365]\n",
    "for i in range (len(start_indices)):\n",
    "    start = start_indices[i]\n",
    "    end = end_indices[i]\n",
    "    if leapyear:\n",
    "        start = start+1\n",
    "        end = end+1\n",
    "    index = (newtime>=start)*(newtime<end)\n",
    "    where_index = np.where(index)\n",
    "    if i == 0:\n",
    "        Jan = where_index\n",
    "    if i == 1:\n",
    "        Feb = where_index\n",
    "    if i == 2:\n",
    "        Mar = where_index\n",
    "    if i == 3:\n",
    "        April = where_index\n",
    "    if i == 4:\n",
    "        May = where_index\n",
    "    if i == 5:\n",
    "        June = where_index\n",
    "    if i == 6:\n",
    "        July = where_index\n",
    "    if i == 7:\n",
    "        Aug = where_index\n",
    "    if i == 8:\n",
    "        Sep = where_index\n",
    "    if i == 9:\n",
    "        Oct = where_index\n",
    "    if i == 10:\n",
    "        Nov = where_index\n",
    "    if i == 11:\n",
    "        Dec = where_index\n",
    "        \n",
    "        \n",
    "w = icec[Oct,latstart:latend,:]\n",
    "\n",
    "#this seems low \n",
    "\n",
    "Ice_cover = collections.OrderedDict()\n",
    "Ice_cover['Jan'] = np.mean(icec[Jan,latstart:latend,:])\n",
    "Ice_cover['Feb'] = np.mean(icec[Feb,latstart:latend,:])\n",
    "Ice_cover['Mar'] = np.mean(icec[Mar,latstart:latend,:])\n",
    "Ice_cover['April'] = np.mean(icec[April,latstart:latend,:])\n",
    "Ice_cover['May'] = np.mean(icec[May,latstart:latend,:])\n",
    "Ice_cover['June'] = np.mean(icec[June,latstart:latend,:])\n",
    "Ice_cover['July'] = np.mean(icec[July,latstart:latend,:])\n",
    "Ice_cover['Aug'] = np.mean(icec[Aug,latstart:latend,:])\n",
    "Ice_cover['Sep'] = np.mean(icec[Sep,latstart:latend,:])\n",
    "Ice_cover['Oct'] = np.mean(icec[Oct,latstart:latend,:])\n",
    "Ice_cover['Nov'] = np.mean(icec[Nov,latstart:latend,:])\n",
    "Ice_cover['Dec'] = np.mean(icec[Dec,latstart:latend,:])\n",
    "print(Ice_cover)\n",
    "        \n",
    "# print(Oct)\n",
    "# #April = np.where(91 <= newtime< 121)# & newtime <121)\n",
    "# print(LatCircle)\n",
    "# april 91 \n",
    "# #may 121\n",
    "# june 152\n",
    "# july 182\n",
    "# august 213\n",
    "# sept 244\n",
    "# oct 274\n",
    "# nov 305\n",
    "\n",
    "# print(latstart)\n",
    "# print(latend)\n",
    "# w = icec[Oct,latstart:latend,:]\n",
    "# Oct_avg = np.average(w)\n",
    "# print(Oct_avg)\n",
    "# #print(w)\n",
    "# Oct_un = np.unique(w)\n",
    "# print(Oct_un)\n",
    "# bogusval = np.where(w =='--')\n",
    "# print(bogusval)\n",
    "\n",
    "# testvar = icec[40,0,1]\n",
    "# print('*fuck learning takes forever*')\n",
    "# print(icec)\n",
    "# p = np.ma.getmask(icec)\n",
    "# icec[p]=0\n",
    "# print('*no seriously learning takes forever*')\n",
    "# print(icec)\n"
   ]
  },
  {
   "cell_type": "code",
   "execution_count": 24,
   "metadata": {
    "collapsed": false
   },
   "outputs": [
    {
     "name": "stdout",
     "output_type": "stream",
     "text": [
      "0.491787857219\n"
     ]
    }
   ],
   "source": [
    "w = icec[Oct,latstart:latend,:]\n",
    "q = np.mean(w)\n",
    "print(q)"
   ]
  },
  {
   "cell_type": "code",
   "execution_count": null,
   "metadata": {
    "collapsed": true
   },
   "outputs": [],
   "source": []
  },
  {
   "cell_type": "code",
   "execution_count": null,
   "metadata": {
    "collapsed": false
   },
   "outputs": [],
   "source": []
  },
  {
   "cell_type": "code",
   "execution_count": null,
   "metadata": {
    "collapsed": true
   },
   "outputs": [],
   "source": []
  },
  {
   "cell_type": "code",
   "execution_count": null,
   "metadata": {
    "collapsed": true
   },
   "outputs": [],
   "source": []
  },
  {
   "cell_type": "code",
   "execution_count": null,
   "metadata": {
    "collapsed": true
   },
   "outputs": [],
   "source": []
  },
  {
   "cell_type": "code",
   "execution_count": null,
   "metadata": {
    "collapsed": true
   },
   "outputs": [],
   "source": []
  },
  {
   "cell_type": "code",
   "execution_count": null,
   "metadata": {
    "collapsed": true
   },
   "outputs": [],
   "source": []
  },
  {
   "cell_type": "code",
   "execution_count": null,
   "metadata": {
    "collapsed": true
   },
   "outputs": [],
   "source": []
  },
  {
   "cell_type": "code",
   "execution_count": null,
   "metadata": {
    "collapsed": true
   },
   "outputs": [],
   "source": []
  },
  {
   "cell_type": "code",
   "execution_count": null,
   "metadata": {
    "collapsed": true
   },
   "outputs": [],
   "source": []
  },
  {
   "cell_type": "code",
   "execution_count": null,
   "metadata": {
    "collapsed": true
   },
   "outputs": [],
   "source": []
  },
  {
   "cell_type": "code",
   "execution_count": null,
   "metadata": {
    "collapsed": true
   },
   "outputs": [],
   "source": []
  },
  {
   "cell_type": "code",
   "execution_count": null,
   "metadata": {
    "collapsed": false
   },
   "outputs": [],
   "source": []
  },
  {
   "cell_type": "code",
   "execution_count": null,
   "metadata": {
    "collapsed": true
   },
   "outputs": [],
   "source": []
  },
  {
   "cell_type": "code",
   "execution_count": null,
   "metadata": {
    "collapsed": true
   },
   "outputs": [],
   "source": []
  },
  {
   "cell_type": "code",
   "execution_count": null,
   "metadata": {
    "collapsed": true
   },
   "outputs": [],
   "source": []
  }
 ],
 "metadata": {
  "kernelspec": {
   "display_name": "Python 3",
   "language": "python",
   "name": "python3"
  },
  "language_info": {
   "codemirror_mode": {
    "name": "ipython",
    "version": 3
   },
   "file_extension": ".py",
   "mimetype": "text/x-python",
   "name": "python",
   "nbconvert_exporter": "python",
   "pygments_lexer": "ipython3",
   "version": "3.4.3"
  }
 },
 "nbformat": 4,
 "nbformat_minor": 0
}
