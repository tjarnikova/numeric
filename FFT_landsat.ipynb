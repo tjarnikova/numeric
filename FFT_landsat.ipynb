{
 "cells": [
  {
   "cell_type": "markdown",
   "metadata": {},
   "source": [
    "1)  Show that the Wiener-Khichine theorem holds for the 2D variance\n",
    "spectrum for Landsat A17.  That is\n",
    "    show that integrating the power spectrum over :math:`k_x` and\n",
    ":math:`k_y` yields the variance of the optical depth.\n",
    "\n",
    "2)  Lowpass filter the Landsat scene so that fluctuations with spatial\n",
    "scales less than 1 km are removed from the image.\n",
    "    (make plots of the filtered image and its 1-d power spectrum)\n",
    "    "
   ]
  }
 ],
 "metadata": {
  "kernelspec": {
   "display_name": "Python 3",
   "language": "python",
   "name": "python3"
  },
  "language_info": {
   "codemirror_mode": {
    "name": "ipython",
    "version": 3
   },
   "file_extension": ".py",
   "mimetype": "text/x-python",
   "name": "python",
   "nbconvert_exporter": "python",
   "pygments_lexer": "ipython3",
   "version": "3.4.3"
  }
 },
 "nbformat": 4,
 "nbformat_minor": 0
}
