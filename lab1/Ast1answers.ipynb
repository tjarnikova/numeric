{
 "cells": [
  {
   "cell_type": "markdown",
   "metadata": {},
   "source": [
    "##EOSC 511\n",
    "Assignment 1 \n",
    "\n",
    "Tereza Jarníková\n",
    "\n",
    "81586142\n",
    "\n",
    "1. Given the following four (x,y) points (-5,-1), (0,0), (5,1), (8,4) find the y-value at x=3\n",
    "using:\n",
    "       (a) Linear Interpolation\n",
    "       (b) Cubic Interpolation"
   ]
  },
  {
   "cell_type": "markdown",
   "metadata": {},
   "source": [
    "<img src=/files/q1fig.png/>\n",
    "\n",
    "   *A plot of the points to be interpolated and the piecewise linear interpolation*"
   ]
  },
  {
   "cell_type": "markdown",
   "metadata": {},
   "source": [
    "(a) In linear interpolation, interpolating between 2 adjacent points simply utilizes a linear function. Hence I find the linear equation passing through (0,0) and (5,1) - it's simply\n",
    "\n",
    "   $$y = \\frac{x}{5}$$\n",
    "       \n",
    "     at x=3, \n",
    "   $$y = \\frac{3}{5}$$\n",
    " "
   ]
  },
  {
   "cell_type": "markdown",
   "metadata": {},
   "source": [
    "(b) Cubic interpolation - In cubic interpolation, we use a piecewise 3rd order polynomial to estimate the value of an equation at a given point. Depending on the desired result, we will choose a different piecewise 3rd order polynomial (which will consequently give different answers). MATLAB's 'cubic' function uses a piecewise hermite interpolating polynomial (pchip), so I used that to obtain by answer. A cubic spline is also a piecewise 3rd order polynomial, though it has different conditions on the derivatives of the functions that make it up than the pchip. Inputing the following into MATLAB:\n",
    "\n",
    "      y3 = interp1(x,y,3,'cubic')\n",
    "\n",
    "gives \n",
    "      y3 = 0.4899\n",
    "      \n",
    "for comparison, using MATLAB's spline interpolation:\n",
    "\n",
    "      y3 = spline(x,y,3)\n",
    "      \n",
    "gives\n",
    "\n",
    "      y3 = 0.2308\n",
    "      "
   ]
  },
  {
   "cell_type": "code",
   "execution_count": null,
   "metadata": {
    "collapsed": true
   },
   "outputs": [],
   "source": []
  },
  {
   "cell_type": "code",
   "execution_count": null,
   "metadata": {
    "collapsed": true
   },
   "outputs": [],
   "source": []
  },
  {
   "cell_type": "code",
   "execution_count": null,
   "metadata": {
    "collapsed": true
   },
   "outputs": [],
   "source": []
  }
 ],
 "metadata": {
  "kernelspec": {
   "display_name": "Python 2",
   "language": "python",
   "name": "python2"
  },
  "language_info": {
   "codemirror_mode": {
    "name": "ipython",
    "version": 2
   },
   "file_extension": ".py",
   "mimetype": "text/x-python",
   "name": "python",
   "nbconvert_exporter": "python",
   "pygments_lexer": "ipython2",
   "version": "2.7.9"
  }
 },
 "nbformat": 4,
 "nbformat_minor": 0
}
