{
 "cells": [
  {
   "cell_type": "markdown",
   "metadata": {},
   "source": [
    "1. Given the following four (x,y) points (-5,-1), (0,0), (5,1), (8,4) find the y-value at x=3\n",
    "using:\n",
    "       (a) Linear Interpolation\n",
    "       (b) Cubic Interpolation"
   ]
  },
  {
   "cell_type": "markdown",
   "metadata": {},
   "source": [
    "(a) In linear interpolation, interpolating between 2 adjacent points simply utilizes a linear function. Hence I find the linear equation passing through (0,0) and (5,1) - it's simply\n",
    "\n",
    "   $$y = \\frac{x}{5}$$\n",
    "       \n",
    "     at x=3, \n",
    "   $$y = \\frac{3}{5}$$\n",
    " "
   ]
  },
  {
   "cell_type": "markdown",
   "metadata": {},
   "source": [
    "(b) Cubic interpolation - In cubic interpolation, we use a cubic spline to estimate the value of an equation at a given point. A spline is a "
   ]
  }
 ],
 "metadata": {
  "kernelspec": {
   "display_name": "Python 2",
   "language": "python",
   "name": "python2"
  },
  "language_info": {
   "codemirror_mode": {
    "name": "ipython",
    "version": 2
   },
   "file_extension": ".py",
   "mimetype": "text/x-python",
   "name": "python",
   "nbconvert_exporter": "python",
   "pygments_lexer": "ipython2",
   "version": "2.7.9"
  }
 },
 "nbformat": 4,
 "nbformat_minor": 0
}
