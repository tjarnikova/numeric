{
 "cells": [
  {
   "cell_type": "markdown",
   "metadata": {},
   "source": [
    "<a name=\"prob_b\"></a>    \n",
    "**problem coding B**:\n",
    "\n",
    "1.  Now solve the following test equation by both the midpoint and\n",
    "    Heun’s method and compare. $$f(y,t) = t - y  + 1.0$$ Choose two sets\n",
    "    of initial conditions and investigate the behaviour.\n",
    "\n",
    "2.  Is there any difference between the two methods when applied to\n",
    "    either problem? Should there be? Explain by analyzing the steps\n",
    "    that each method is taking.\n",
    "\n",
    "\n",
    "I rewrote the derivative as follows:"
   ]
  },
  {
   "cell_type": "code",
   "execution_count": 26,
   "metadata": {
    "collapsed": false
   },
   "outputs": [
    {
     "data": {
      "text/plain": [
       "<matplotlib.text.Text at 0x106d1fef0>"
      ]
     },
     "execution_count": 26,
     "metadata": {},
     "output_type": "execute_result"
    },
    {
     "data": {
      "image/png": "[encoded data removed]",
      "text/plain": [
       "<matplotlib.figure.Figure at 0x105767908>"
      ]
     },
     "metadata": {},
     "output_type": "display_data"
    }
   ],
   "source": [
    "%matplotlib inline\n",
    "import numpy as np\n",
    "import json\n",
    "from numlabs.lab4.example.test import read_init\n",
    "from matplotlib import pyplot as plt\n",
    "#\n",
    "# specify the derivs function\n",
    "#\n",
    "def derivsB(coeff,y,t):\n",
    "#    f = np.empty_like(y) #2 element vector for derivative\n",
    "\n",
    "    f= - coeff.c1*y + coeff.c2*t + 1\n",
    "    return f\n",
    "\n",
    "def midpoint4(coeff, y, derivsB,t):\n",
    "    ynew = y + coeff.dt*derivsB(coeff,y,t + (0.5 * coeff.dt * derivsB(coeff,y,t)),)\n",
    "    return ynew\n",
    "\n",
    "def heun2(coeff, y, derivs,t):\n",
    "    k1 = coeff.dt * derivsB(coeff,y,t)\n",
    "    k2 = coeff.dt * derivsB(coeff,y + ((2.0/3.0) * k1),t)\n",
    "    ynew = y + (1.0/4.0) * (k1) + (3.0/4.0) * (k2)\n",
    "    return ynew\n",
    "#\n",
    "# first make sure we have an input file in this directory\n",
    "#\n",
    "initialVals={'yinitial': 0.,'t_beg':0.,'t_end':40.,'dt':0.1,'c1':0.,'c2':1.}\n",
    "initialVals['comment'] = 'written Sep. 29, 2015'\n",
    "initialVals['plot_title'] = 'simple damped oscillator run 1'\n",
    "\n",
    "infile='run_1.json'\n",
    "with open(infile,'w') as f:\n",
    "      f.write(json.dumps(initialVals,indent=4))\n",
    "#\n",
    "#  now read the initial information into a namedtuple coeff\n",
    "#\n",
    "        \n",
    "infile='run_1.json'\n",
    "coeff=read_init(infile)\n",
    "\n",
    "\n",
    "#\n",
    "# integrate and save the result in savedata\n",
    "#\n",
    "y=coeff.yinitial\n",
    "nsteps=len(time) \n",
    "time=np.arange(coeff.t_beg,coeff.t_end,coeff.dt)\n",
    "heunsData = np.empty([nsteps],'float')\n",
    "mpData = np.empty([nsteps],'float')\n",
    "\n",
    "\n",
    "\n",
    "\n",
    "heunsData=np.empty([nsteps],np.float64)\n",
    "heunsData[0] = coeff.yinitial\n",
    "mpData[0] = coeff.yinitial\n",
    "for i in range(nsteps):\n",
    "    t = time[i]\n",
    "    y=heun2(coeff,y,derivsB,t)\n",
    "    ymp = midpoint4(coeff,y,derivsB,t)\n",
    "    heunsData[i]=y\n",
    "    \n",
    "    mpData[i] = ymp\n",
    "    \n",
    "    \n",
    "                    \n",
    "\n",
    "theFig,theAx=plt.subplots(1,1,figsize=(8,8))\n",
    "theAx.plot(time,mpData,'o-')\n",
    "theAx.set_title(coeff.plot_title)\n",
    "theAx.set_xlabel('time (seconds)')\n",
    "theAx.set_ylabel('y0') \n",
    "\n",
    "\n"
   ]
  },
  {
   "cell_type": "code",
   "execution_count": 27,
   "metadata": {
    "collapsed": false
   },
   "outputs": [
    {
     "ename": "NameError",
     "evalue": "name 'points' is not defined",
     "output_type": "error",
     "traceback": [
      "\u001b[0;31m---------------------------------------------------------------------------\u001b[0m",
      "\u001b[0;31mNameError\u001b[0m                                 Traceback (most recent call last)",
      "\u001b[0;32m<ipython-input-27-2182522cc2dd>\u001b[0m in \u001b[0;36m<module>\u001b[0;34m()\u001b[0m\n\u001b[1;32m     51\u001b[0m     \u001b[0max\u001b[0m\u001b[0;34m.\u001b[0m\u001b[0mplot\u001b[0m\u001b[0;34m(\u001b[0m\u001b[0mapproxTime\u001b[0m\u001b[0;34m,\u001b[0m\u001b[0mapproxTemp\u001b[0m\u001b[0;34m,\u001b[0m \u001b[0mcolor\u001b[0m\u001b[0;34m,\u001b[0m \u001b[0mlabel\u001b[0m \u001b[0;34m=\u001b[0m \u001b[0mfunChoice\u001b[0m\u001b[0;34m)\u001b[0m\u001b[0;34m\u001b[0m\u001b[0m\n\u001b[1;32m     52\u001b[0m     \u001b[0max\u001b[0m\u001b[0;34m.\u001b[0m\u001b[0mhold\u001b[0m\u001b[0;34m(\u001b[0m\u001b[0;32mTrue\u001b[0m\u001b[0;34m)\u001b[0m\u001b[0;34m\u001b[0m\u001b[0m\n\u001b[0;32m---> 53\u001b[0;31m     \u001b[0mtitl\u001b[0m \u001b[0;34m=\u001b[0m  \u001b[0;34m\"Comparison of exact solution and approximation by \\n \"\u001b[0m \u001b[0;34m+\u001b[0m \u001b[0mfunChoice\u001b[0m \u001b[0;34m+\u001b[0m \u001b[0;34m\" method. Steps: \"\u001b[0m \u001b[0;34m+\u001b[0m \u001b[0mpoints\u001b[0m\u001b[0;34m\u001b[0m\u001b[0m\n\u001b[0m\u001b[1;32m     54\u001b[0m     \u001b[0max\u001b[0m\u001b[0;34m.\u001b[0m\u001b[0mset_title\u001b[0m\u001b[0;34m(\u001b[0m\u001b[0mtitl\u001b[0m\u001b[0;34m,\u001b[0m \u001b[0mfontsize\u001b[0m \u001b[0;34m=\u001b[0m \u001b[0;36m10\u001b[0m\u001b[0;34m)\u001b[0m\u001b[0;34m\u001b[0m\u001b[0m\n\u001b[1;32m     55\u001b[0m     \u001b[0max\u001b[0m\u001b[0;34m.\u001b[0m\u001b[0mlegend\u001b[0m\u001b[0;34m(\u001b[0m\u001b[0mloc\u001b[0m\u001b[0;34m=\u001b[0m\u001b[0;36m2\u001b[0m\u001b[0;34m,\u001b[0m\u001b[0mprop\u001b[0m\u001b[0;34m=\u001b[0m\u001b[0;34m{\u001b[0m\u001b[0;34m'size'\u001b[0m\u001b[0;34m:\u001b[0m\u001b[0;36m6\u001b[0m\u001b[0;34m}\u001b[0m\u001b[0;34m)\u001b[0m\u001b[0;34m\u001b[0m\u001b[0m\n",
      "\u001b[0;31mNameError\u001b[0m: name 'points' is not defined"
     ]
    },
    {
     "data": {
      "image/png": "[encoded data removed]",
      "text/plain": [
       "<matplotlib.figure.Figure at 0x107443fd0>"
      ]
     },
     "metadata": {},
     "output_type": "display_data"
    }
   ],
   "source": [
    "fig, big_axes = plt.subplots( figsize=(12.0, 12.0) , nrows=3, ncols=1, sharey=True) \n",
    "for row, big_ax in enumerate(big_axes, start=1):\n",
    "    big_ax.tick_params(labelcolor=(1.,1.,1., 0.0), top='off', bottom='off', left='off', right='off')\n",
    "    # removes the white frame\n",
    "    big_ax._frameon = False\n",
    "\n",
    "#this way of doing things is silly but oh well I am not that good at python\n",
    "    \n",
    "for i in range(1,10):\n",
    "  \n",
    "    ax = fig.add_subplot(3,3,i)\n",
    "    if i == 1:\n",
    "        funChoice = 'euler'\n",
    "        npts = 10\n",
    "        color = 'r'\n",
    "    elif i == 2:\n",
    "        funChoice = 'leapfrog'\n",
    "        npts = 10\n",
    "        color = 'g'\n",
    "    elif i == 3:\n",
    "        funChoice = 'runge'\n",
    "        npts = 10\n",
    "        color = 'b'    \n",
    "    elif i == 4:\n",
    "        funChoice = 'euler'\n",
    "        npts = 50\n",
    "        color = 'r'\n",
    "    elif i == 5:\n",
    "        funChoice = 'leapfrog'\n",
    "        npts = 50\n",
    "        color = 'g'\n",
    "    elif i == 6:\n",
    "        funChoice = 'runge'\n",
    "        npts = 50\n",
    "        color = 'b'\n",
    "    elif i == 7:\n",
    "        funChoice = 'euler'\n",
    "        npts = 100\n",
    "        color = 'r'\n",
    "    elif i == 8:\n",
    "        funChoice = 'leapfrog'\n",
    "        npts = 100\n",
    "        color = 'g'\n",
    "    elif i == 9:\n",
    "        funChoice = 'runge'\n",
    "        npts = 100\n",
    "        color = 'b'\n",
    "        \n",
    "    approxTime =[0,1,2,3,4]\n",
    "    approxTemp =[1,2,3,4,5]\n",
    "    ax.plot(approxTime,approxTemp, color, label = funChoice)\n",
    "    ax.hold(True)\n",
    "    titl =  \"Comparison of exact solution and approximation by\"\n",
    "    ax.set_title(titl, fontsize = 10)\n",
    "    ax.legend(loc=2,prop={'size':6})\n",
    "\n",
    "fig.set_facecolor('w')\n",
    "plt.tight_layout()\n",
    "plt.show()"
   ]
  },
  {
   "cell_type": "code",
   "execution_count": null,
   "metadata": {
    "collapsed": true
   },
   "outputs": [],
   "source": []
  },
  {
   "cell_type": "code",
   "execution_count": null,
   "metadata": {
    "collapsed": true
   },
   "outputs": [],
   "source": []
  }
 ],
 "metadata": {
  "kernelspec": {
   "display_name": "Python 3",
   "language": "python",
   "name": "python3"
  },
  "language_info": {
   "codemirror_mode": {
    "name": "ipython",
    "version": 3
   },
   "file_extension": ".py",
   "mimetype": "text/x-python",
   "name": "python",
   "nbconvert_exporter": "python",
   "pygments_lexer": "ipython3",
   "version": "3.4.3"
  }
 },
 "nbformat": 4,
 "nbformat_minor": 0
}
