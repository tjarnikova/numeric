{
 "cells": [
  {
   "cell_type": "markdown",
   "metadata": {},
   "source": [
    "<a name=\"prob_c\"></a>    \n",
    "**problem coding C**:\n",
    "\n",
    "6.  Solve the Newtonian cooling equation of lab 1 by any of the above\n",
    "    methods. \n",
    "\n",
    "7.  Hand in some sample plots along with the parameter values and\n",
    "    initial conditions used."
   ]
  },
  {
   "cell_type": "code",
   "execution_count": 10,
   "metadata": {
    "collapsed": false
   },
   "outputs": [
    {
     "name": "stdout",
     "output_type": "stream",
     "text": [
      "30.0\n"
     ]
    },
    {
     "data": {
      "text/plain": [
       "<matplotlib.text.Text at 0x105d28978>"
      ]
     },
     "execution_count": 10,
     "metadata": {},
     "output_type": "execute_result"
    },
    {
     "data": {
      "image/png": "[encoded data removed]",
      "text/plain": [
       "<matplotlib.figure.Figure at 0x10626a208>"
      ]
     },
     "metadata": {},
     "output_type": "display_data"
    }
   ],
   "source": [
    "%matplotlib inline\n",
    "import numpy as np\n",
    "import json\n",
    "from numlabs.lab4.example.test import read_init\n",
    "from matplotlib import pyplot as plt\n",
    "#\n",
    "# specify the derivs function\n",
    "#\n",
    "\n",
    "L = 1\n",
    "Ta = 20\n",
    "def derivsC(coeff,y):\n",
    "    f = -(coeff.c1)*(y-coeff.c2)\n",
    "    return f\n",
    "\n",
    "def heun2(coeff, y, derivs,t):\n",
    "    k1 = coeff.dt * derivsC(coeff,y,)\n",
    "    k2 = coeff.dt * derivsC(coeff,y + ((2.0/3.0) * k1))\n",
    "    ynew = y + (1.0/4.0) * (k1) + (3.0/4.0) * (k2)\n",
    "    return ynew\n",
    "#\n",
    "# first make sure we have an input file in this directory\n",
    "#\n",
    "initialVals={'yinitial': 30.,'t_beg':0.,'t_end':40.,'dt':0.1,'c1':L,'c2':Ta}\n",
    "initialVals['comment'] = 'written Sep. 29, 2015'\n",
    "initialVals['plot_title'] = 'simple damped oscillator run 1'\n",
    "\n",
    "infile='run_1.json'\n",
    "with open(infile,'w') as f:\n",
    "      f.write(json.dumps(initialVals,indent=4))\n",
    "#\n",
    "#  now read the initial information into a namedtuple coeff\n",
    "#\n",
    "        \n",
    "infile='run_1.json'\n",
    "coeff=read_init(infile)\n",
    "\n",
    "\n",
    "#\n",
    "# integrate and save the result in savedata\n",
    "#\n",
    "y=coeff.yinitial\n",
    "\n",
    "time=np.arange(coeff.t_beg,coeff.t_end,coeff.dt)\n",
    "nsteps=len(time) \n",
    "heunsData = np.empty([nsteps],'float')\n",
    "mpData = np.empty([nsteps],'float')\n",
    "heunsData=np.empty([nsteps],np.float64)\n",
    "heunsData[0] = coeff.yinitial\n",
    "print(heunsData[0])\n",
    "\n",
    "for i in range(nsteps-1):\n",
    "    t = time[i]\n",
    "    y=heun2(coeff,y,derivsC,t)\n",
    "    heunsData[i+1]=y\n",
    "                 \n",
    "\n",
    "theFig,theAx=plt.subplots(1,1,figsize=(8,8))\n",
    "theAx.plot(time,heunsData,'o-')\n",
    "theAx.set_title(coeff.plot_title)\n",
    "theAx.set_xlabel('time (seconds)')\n",
    "theAx.set_ylabel('y0') \n"
   ]
  },
  {
   "cell_type": "code",
   "execution_count": null,
   "metadata": {
    "collapsed": true
   },
   "outputs": [],
   "source": []
  }
 ],
 "metadata": {
  "kernelspec": {
   "display_name": "Python 3",
   "language": "python",
   "name": "python3"
  },
  "language_info": {
   "codemirror_mode": {
    "name": "ipython",
    "version": 3
   },
   "file_extension": ".py",
   "mimetype": "text/x-python",
   "name": "python",
   "nbconvert_exporter": "python",
   "pygments_lexer": "ipython3",
   "version": "3.4.3"
  }
 },
 "nbformat": 4,
 "nbformat_minor": 0
}
