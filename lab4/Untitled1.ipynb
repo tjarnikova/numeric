{
 "cells": [
  {
   "cell_type": "code",
   "execution_count": 5,
   "metadata": {
    "collapsed": false
   },
   "outputs": [
    {
     "name": "stdout",
     "output_type": "stream",
     "text": [
      "[-1.  0.]\n",
      "[-1.  0.]\n",
      "-0.81\n",
      "-0.79\n"
     ]
    }
   ],
   "source": [
    "%matplotlib inline\n",
    "import numpy as np\n",
    "import json\n",
    "from numlabs.lab4.example.test import read_init\n",
    "from matplotlib import pyplot as plt\n",
    "#\n",
    "# specify the derivs function\n",
    "def derivsB(coeff,y,t):\n",
    "#    f = np.empty_like(y) #2 element vector for derivative\n",
    "\n",
    "    f= - coeff.c1*y + coeff.c2*t + 1\n",
    "    return f\n",
    "\n",
    "def midpoint4(coeff, y, derivsB,t):\n",
    "    ynew = y + coeff.dt*derivsB(coeff,y,t + (0.5 * coeff.dt * derivsB(coeff,y,t)),)\n",
    "    return ynew\n",
    "\n",
    "def heun2(coeff, y, derivs,t):\n",
    "    k1 = coeff.dt * derivsB(coeff,y,t)\n",
    "    k2 = coeff.dt * derivsB(coeff,y + ((2.0/3.0) * k1),t)\n",
    "    ynew = y + (1.0/4.0) * (k1) + (3.0/4.0) * (k2)\n",
    "    return ynew\n",
    "\n",
    "initialVals={'yinitial': -1.,'t_beg':0.,'t_end':40.,'dt':0.1,'c1':1.,'c2':1.}\n",
    "initialVals['comment'] = 'written Sep. 29, 2015'\n",
    "initialVals['plot_title'] = 'simple damped oscillator run 1'\n",
    "\n",
    "infile='run_1.json'\n",
    "with open(infile,'w') as f:\n",
    "      f.write(json.dumps(initialVals,indent=4))\n",
    "#\n",
    "#  now read the initial information into a namedtuple coeff\n",
    "\n",
    "infile='run_1.json'\n",
    "coeff=read_init(infile)\n",
    "# integrate and save the result in savedata\n",
    "y = coeff.yinitial\n",
    "ymp = coeff.yinitial\n",
    "time=np.arange(coeff.t_beg,coeff.t_end,coeff.dt)\n",
    "nsteps=len(time) \n",
    "\n",
    "heunsData = np.empty([2],'float')\n",
    "heunsData[0] =y\n",
    "mpData = np.empty([2],'float')\n",
    "mpData[0] =ymp\n",
    "\n",
    "print(heunsData)\n",
    "print(mpData)\n",
    "\n",
    "for i in range(1):\n",
    "    t = time[i]\n",
    "    y=heun2(coeff,y,derivsB,t)\n",
    "    print(y)\n",
    "    ymp = midpoint4(coeff,ymp,derivsB,t)\n",
    "    print(ymp)\n",
    "    heunsData[i]=y\n",
    "    mpData[i] = ymp\n",
    "    \n"
   ]
  },
  {
   "cell_type": "code",
   "execution_count": null,
   "metadata": {
    "collapsed": true
   },
   "outputs": [],
   "source": []
  }
 ],
 "metadata": {
  "kernelspec": {
   "display_name": "Python 3",
   "language": "python",
   "name": "python3"
  },
  "language_info": {
   "codemirror_mode": {
    "name": "ipython",
    "version": 3
   },
   "file_extension": ".py",
   "mimetype": "text/x-python",
   "name": "python",
   "nbconvert_exporter": "python",
   "pygments_lexer": "ipython3",
   "version": "3.4.3"
  }
 },
 "nbformat": 4,
 "nbformat_minor": 0
}
