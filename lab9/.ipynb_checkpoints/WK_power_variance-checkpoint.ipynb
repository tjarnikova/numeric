{
 "cells": [
  {
   "cell_type": "markdown",
   "metadata": {},
   "source": [
    "1)  Show that the Wiener-Khichine theorem holds for the 2D variance\n",
    "spectrum for Landsat A17.  That is\n",
    "    show that integrating the power spectrum over :math:`k_x` and\n",
    ":math:`k_y` yields the variance of theoptical depth."
   ]
  },
  {
   "cell_type": "code",
   "execution_count": 2,
   "metadata": {
    "collapsed": true
   },
   "outputs": [],
   "source": [
    "import numpy as np\n",
    "import warnings\n",
    "warnings.filterwarnings(\"ignore\",category=FutureWarning)\n",
    "from matplotlib import pyplot as plt\n",
    "import urllib\n",
    "import os\n",
    "filelist=['a17.nc']\n",
    "data_download=True\n",
    "if data_download:\n",
    "    for the_file in filelist:\n",
    "        url='http://clouds.eos.ubc.ca/~phil/docs/atsc500/data/{}'.format(the_file)\n",
    "        urllib.request.urlretrieve(url,the_file)\n",
    "#print(\"download {}: size is {:6.2g} Mbytes\".format(the_file,os.path.getsize(the_file)*1.e-6))\n",
    "from netCDF4 import Dataset\n",
    "with Dataset(filelist[0]) as nc:\n",
    "    tau=nc.variables['tau'][...]"
   ]
  }
 ],
 "metadata": {
  "kernelspec": {
   "display_name": "Python 3",
   "language": "python",
   "name": "python3"
  },
  "language_info": {
   "codemirror_mode": {
    "name": "ipython",
    "version": 3
   },
   "file_extension": ".py",
   "mimetype": "text/x-python",
   "name": "python",
   "nbconvert_exporter": "python",
   "pygments_lexer": "ipython3",
   "version": "3.4.3"
  }
 },
 "nbformat": 4,
 "nbformat_minor": 0
}
