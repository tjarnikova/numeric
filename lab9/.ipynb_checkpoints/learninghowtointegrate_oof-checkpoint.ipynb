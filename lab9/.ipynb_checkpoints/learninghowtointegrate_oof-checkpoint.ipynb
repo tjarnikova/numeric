{
 "cells": [
  {
   "cell_type": "code",
   "execution_count": 26,
   "metadata": {
    "collapsed": false
   },
   "outputs": [
    {
     "name": "stdout",
     "output_type": "stream",
     "text": [
      "[[2 2 2]\n",
      " [2 2 2]\n",
      " [2 2 2]]\n",
      "8.0\n"
     ]
    }
   ],
   "source": [
    "import numpy\n",
    "def trapz2d(z,x=None,y=None,dx=1.,dy=1.):\n",
    "    ''' Integrates a regularly spaced 2D grid using the composite trapezium rule. \n",
    "    IN:\n",
    "       z : 2D array\n",
    "       x : (optional) grid values for x (1D array)\n",
    "       y : (optional) grid values for y (1D array)\n",
    "       dx: if x is not supplied, set it to the x grid interval\n",
    "       dy: if y is not supplied, set it to the x grid interval\n",
    "    '''\n",
    "    import numpy as N\n",
    "    \n",
    "    sum = N.sum\n",
    "    if x != None:\n",
    "        dx = (x[-1]-x[0])/(N.shape(x)[0]-1)\n",
    "    if y != None:\n",
    "        dy = (y[-1]-y[0])/(N.shape(y)[0]-1)    \n",
    "    \n",
    "    s1 = z[0,0] + z[-1,0] + z[0,-1] + z[-1,-1]\n",
    "    s2 = sum(z[1:-1,0]) + sum(z[1:-1,-1]) + sum(z[0,1:-1]) + sum(z[-1,1:-1])\n",
    "    s3 = sum(z[1:-1,1:-1])\n",
    "    \n",
    "    return 0.25*dx*dy*(s1 + 2*s2 + 4*s3)\n",
    "\n",
    "w = numpy.matrix([[2, 2,2],[2, 2,2],[2, 2,2],])\n",
    "print(w)\n",
    "monster = trapz2d(w)\n",
    "print(monster)"
   ]
  },
  {
   "cell_type": "code",
   "execution_count": 62,
   "metadata": {
    "collapsed": false
   },
   "outputs": [
    {
     "name": "stdout",
     "output_type": "stream",
     "text": [
      "[[2 2 2 2 2 2]\n",
      " [2 2 2 2 2 2]\n",
      " [2 2 7 7 2 2]\n",
      " [2 2 7 7 2 2]\n",
      " [2 2 2 2 2 2]\n",
      " [2 2 2 2 2 2]]\n",
      "[[0 0 0 0 0 0]\n",
      " [0 0 0 0 0 0]\n",
      " [0 0 1 1 0 0]\n",
      " [0 0 1 1 0 0]\n",
      " [0 0 0 0 0 0]\n",
      " [0 0 0 0 0 0]]\n",
      "[[0 0 0 0 0 0]\n",
      " [0 0 0 0 0 0]\n",
      " [0 0 7 7 0 0]\n",
      " [0 0 7 7 0 0]\n",
      " [0 0 0 0 0 0]\n",
      " [0 0 0 0 0 0]]\n"
     ]
    }
   ],
   "source": [
    "import numpy as np\n",
    "w = np.matrix([[2, 2,2,2,2,2],[2, 2,2,2,2,2],[2, 2,2,2,2,2],[2, 2,2,2,2,2],[2, 2,2,2,2,2],[2, 2,2,2,2,2]])\n",
    "\n",
    "def cutsquare(matrix,n,repval):\n",
    "    \"\"\"\n",
    "           takes square array of even-valued length and height, \n",
    "           replaces (nxn) square in middle with repval\n",
    "           (could make more genearal for non-even, non-square matrices)\n",
    "    \"\"\"\n",
    "    \n",
    "    size = matrix.shape\n",
    "    size = size[1]\n",
    "    halfsz = size/2\n",
    "    center = halfsz -1\n",
    "    halfcut = n/2\n",
    "    #find out where to start cutting\n",
    "    startsq = (int(center) - int(halfcut)+1)\n",
    "    endsq = (int(center) + int(halfcut)+1)\n",
    "    matrix[startsq:endsq,startsq:endsq]=repval\n",
    "    \n",
    "    return matrix\n",
    "\n",
    "def savesquare(matrix,n):\n",
    "    \"\"\"\n",
    "           takes square array of even-valued length and height, \n",
    "           makes array zero everywhere except for \n",
    "           (nxn) square in middle, where it's saved\n",
    "           (could make more genearal for non-even, non-square matrices)\n",
    "    \"\"\"\n",
    "    zeromat = np.zeros_like(matrix)\n",
    "    \n",
    "    size = matrix.shape\n",
    "    size = size[1]\n",
    "    halfsz = size/2\n",
    "    center = halfsz -1\n",
    "    halfcut = n/2\n",
    "    #find out where to start cutting\n",
    "    startsq = (int(center) - int(halfcut)+1)\n",
    "    endsq = (int(center) + int(halfcut)+1)\n",
    "    zeromat[startsq:endsq,startsq:endsq]=1\n",
    "    new_matrix = np.multiply(zeromat,matrix)\n",
    "    \n",
    "    return new_matrix\n",
    "    \n",
    "    \n",
    "    \n",
    "    \n",
    "    \n",
    "    \n",
    "    \n",
    "    \n",
    "    \n",
    "    \n",
    "    \n",
    "newmat = cutsquare(w,2,7)\n",
    "print(newmat)\n",
    "\n",
    "savemat = savesquare(w,2)\n",
    "print(savemat)\n",
    "    \n",
    "print(np.multiply(savemat,w))\n",
    "# print(w)\n",
    "# q = w.shape\n",
    "# print(q)\n",
    "# q[1]\n",
    "# halfsz = q[0]/2\n",
    "# print(halfsz)\n",
    "# sizsq = (2,2)\n",
    "# print(sizsq[0])\n",
    "# halfsq = (sizsq[0])/2\n",
    "# print(halfsq)\n",
    "# center = halfsz-1\n",
    "\n",
    "# w[center,center] = 0\n",
    "# print(w)\n",
    "# halfcut = 1\n",
    "# print('x')\n",
    "# startsq = (int(center) - int(halfcut)+1)\n",
    "# endsq = (int(center) + int(halfcut)+1)\n",
    "\n",
    "\n",
    "# # faces[:,:,0,4]\n",
    "# w[startsq:endsq,startsq:endsq]=0\n",
    "# print(w)\n",
    "# for i in range (int(center) - int(halfcut),int(center)+int(halfcut) ):\n",
    "#     for j in range (int(center) - int(halfcut),int(center)+int(halfcut)):\n",
    "#         w[i][j]=0\n",
    "    \n"
   ]
  },
  {
   "cell_type": "code",
   "execution_count": 55,
   "metadata": {
    "collapsed": false
   },
   "outputs": [
    {
     "ename": "TypeError",
     "evalue": "unorderable types: list() > int()",
     "output_type": "error",
     "traceback": [
      "\u001b[0;31m---------------------------------------------------------------------------\u001b[0m",
      "\u001b[0;31mTypeError\u001b[0m                                 Traceback (most recent call last)",
      "\u001b[0;32m<ipython-input-55-a5c2f5810b12>\u001b[0m in \u001b[0;36m<module>\u001b[0;34m()\u001b[0m\n\u001b[1;32m      1\u001b[0m \u001b[0;32mimport\u001b[0m \u001b[0mnumpy\u001b[0m \u001b[0;32mas\u001b[0m \u001b[0mnp\u001b[0m\u001b[0;34m\u001b[0m\u001b[0m\n\u001b[1;32m      2\u001b[0m \u001b[0mw\u001b[0m \u001b[0;34m=\u001b[0m \u001b[0;34m(\u001b[0m\u001b[0;34m[\u001b[0m\u001b[0;36m3\u001b[0m\u001b[0;34m,\u001b[0m\u001b[0;36m4\u001b[0m\u001b[0;34m,\u001b[0m\u001b[0;36m2\u001b[0m\u001b[0;34m,\u001b[0m\u001b[0;36m1\u001b[0m\u001b[0;34m,\u001b[0m\u001b[0;36m2\u001b[0m\u001b[0;34m,\u001b[0m\u001b[0;36m6\u001b[0m\u001b[0;34m,\u001b[0m\u001b[0;36m7\u001b[0m\u001b[0;34m,\u001b[0m\u001b[0;36m5\u001b[0m\u001b[0;34m,\u001b[0m\u001b[0;36m2\u001b[0m\u001b[0;34m]\u001b[0m\u001b[0;34m)\u001b[0m\u001b[0;34m\u001b[0m\u001b[0m\n\u001b[0;32m----> 3\u001b[0;31m \u001b[0mw\u001b[0m\u001b[0;34m(\u001b[0m\u001b[0mw\u001b[0m\u001b[0;34m>\u001b[0m\u001b[0;36m5\u001b[0m\u001b[0;34m)\u001b[0m\u001b[0;34m\u001b[0m\u001b[0m\n\u001b[0m",
      "\u001b[0;31mTypeError\u001b[0m: unorderable types: list() > int()"
     ]
    }
   ],
   "source": [
    "import numpy as np\n",
    "w = ([3,4,2,1,2,6,7,5,2])\n",
    "w(w>5)"
   ]
  }
 ],
 "metadata": {
  "kernelspec": {
   "display_name": "Python 3",
   "language": "python",
   "name": "python3"
  },
  "language_info": {
   "codemirror_mode": {
    "name": "ipython",
    "version": 3
   },
   "file_extension": ".py",
   "mimetype": "text/x-python",
   "name": "python",
   "nbconvert_exporter": "python",
   "pygments_lexer": "ipython3",
   "version": "3.4.3"
  }
 },
 "nbformat": 4,
 "nbformat_minor": 0
}
