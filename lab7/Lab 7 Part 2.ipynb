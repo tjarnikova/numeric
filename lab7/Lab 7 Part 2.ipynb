{
 "cells": [
  {
   "cell_type": "markdown",
   "metadata": {},
   "source": [
    "7.1 Stability\n",
    "---------\n",
    "\n",
    "To determine the stability of the scheme, we need to repeat the analysis\n",
    "of section [5. Stability](#5.-Stability:-the-CFL-condition) for the 2 spatial dimensions used here. The\n",
    "first step is to assume a form of the solutions: \n",
    "<div id='eq:zdis'>\n",
    "$$\\begin{aligned}\n",
    "z_{mnp} &=& {\\cal R}e \\{ {\\cal Z} \\exp [i(kx + \\ell y - \\omega t)] \\}\\\\\n",
    "&=& {\\cal R}e \\{ {\\cal Z} \\exp [i(kmd + \\ell n d- \\omega p\\, dt)] \\} \\nonumber\\end{aligned}$$\n",
    "</div>\n",
    "where $z$ represents any of $u$, $v$ and $h$ and we have let $x=md$,\n",
    "$y=nd$ and $t=p\\,dt$. Substitution gives three algebraic equation in\n",
    "${\\cal U}$, ${\\cal V}$ and ${\\cal H}$: $$\\left[\n",
    "\\begin{array}{ccc} - i \\sin(\\omega dt)/ dt & - f & i g \\sin(kd)/d \\\\\n",
    "f & - i \\sin(\\omega dt)/ dt & i g \\sin(\\ell d)/d \\\\\n",
    "i H \\sin(kd)/d &  i H \\sin(\\ell d)/d &  -i \\sin(\\omega \\, dt)/ dt \\\\\n",
    "\\end{array}\n",
    "\\right]\n",
    "\\left[\n",
    "\\begin{array}{c} {\\cal U}\\\\ {\\cal V} \\\\ {\\cal H}\\\\ \n",
    "\\end{array} \\right]\n",
    "= 0.$$\n",
    "\n",
    "Setting the determinate to zero gives the dispersion relation:\n",
    "<div id='lab7:eq:full:numDisp'>\n",
    "(Full Numerical Dispersion Relation)\n",
    "$$\n",
    "\\frac {\\sin^2(\\omega\\,dt)}{dt^2} = f^2 + \\frac{gH}{d^2} \\left( \\sin^2(kd) + \\sin^2(\\ell d) \\right)$$\n",
    "</div>\n",
    "Still following section [5. Stability](#5.-Stability:-the-CFL-condition), let\n",
    "$\\lambda = \\exp (i \\omega\\, dt)$ and let\n",
    "$4q^2 = f^2 + {gH}/{d^2} \\left( \\sin^2(kd) + \\sin^2(\\ell d) \\right)$,\n",
    "substitution into ([Full Numerical Dispersion Relation](#lab7:eq:full:numDisp)) gives\n",
    "$$-(\\lambda-1/\\lambda)^2 = 4 q^2 dt^2$$ or equation ([Lambda Eqn](#lab7:eq:lambda))\n",
    "again. For stability $\\lambda$ must be less than 1, so\n",
    "$$1 > q^2 dt^2 =  \\frac {dt^2}{4} \\left(f^2 + {gH}/{d^2} \\left( \\sin^2(kd) + \\sin^2(\\ell d) \\right)\n",
    "\\right)$$ The sines take their maximum values at $k=\\pi/(2d)$ and\n",
    "$\\ell=\\pi/(2d)$ giving $$dt^2 < \\frac{4}{f^2 + 2 gH/d^2}$$ This is the\n",
    "CFL condition for the full equations on the Arakawa A grid. Note that\n",
    "the most unstable mode moves at $45^o$ to the grid.\n",
    "\n",
    "*Problem Six*\n",
    "------------\n",
    "[lab7:prob:stability~2~d]:(#Problem-Six)\n",
    "\n",
    "> Once you have finished, do the follwing quiz, and hand in your answer,\n",
    "along with a complete explanation."
   ]
  },
  {
   "cell_type": "code",
   "execution_count": 2,
   "metadata": {
    "collapsed": false
   },
   "outputs": [],
   "source": [
    "##quiz"
   ]
  },
  {
   "cell_type": "markdown",
   "metadata": {},
   "source": [
    "7.2 Accuracy\n",
    "--------\n",
    "[accuracy]:(#7.2-Accuracy)\n",
    "\n",
    "To determine the accuracy of the spatial discretization, we will compare\n",
    "the *numerical dispersion relation* ([Full Numerical Dispersion Relation](#lab7:eq:full:numDisp)) for\n",
    "$dt \\rightarrow 0$ $$\\omega^2 = f^2 + gH \\frac {\\sin^2(kd)}{d^2} +\n",
    "gH \\frac {\\sin^2 (\\ell d)}{d^2}$$ with the exact, *continuous dispersion\n",
    "relation* \n",
    "<div id='lab7:eq:full_disp'>\n",
    "(Full Analytic Disperion Relation)\n",
    "$$\n",
    "\\omega^2 = f^2 + gH(k^2+\\ell^2)$$\n",
    "</div>\n",
    "\n",
    "We can plot the two dispersion relations as functions of $k$ and $\\ell$,\n",
    "given the ratio of $d/R$, where $d$ is the grid size and $R$ is the\n",
    "Rossby radius defined in the previous section. For example, the exact\n",
    "$\\omega$ and its discrete approximation, using Grid A and $d/R = 1/2$,\n",
    "can be compared in Figure [Fifteen, Accuracy Comparison](#lab7:fig:accuracy-demo).\n",
    "\n",
    "<div id='lab7:fig:accuracy-demo'>\n",
    "![A comparison of the exact $\\omega$ and the discrete approximation\n",
    "using Grid A and with $d/R=1/2$.](images/accuracy_demo.png)\n",
    "Figure Fifteen, Accuracy Comparison: A comparison of the exact $\\omega$ and the discrete approximation\n",
    "using Grid A and with $d/R=1/2$.\n",
    "</div>\n",
    "\n",
    "It is easy to see that the Grid A approximation is not accurate enough.\n",
    "There are a number of other possibilities for grids, all of which\n",
    "*stagger* the unknowns; that is, different variables are placed at\n",
    "different spatial positions as discussed in\n",
    "section [#4.4 Staggered Grids](#4.4-Staggered-Grids).\n",
    "\n",
    "Below are four which are known as  @mesinger-arakawa B, C, D and E\n",
    "grids. Note that E is simply a rotation of grid B by $45^\\circ$.\n",
    "\n",
    "<div>\n",
    "![B Grid](images/grid2.png)\n",
    "![C Grid](images/grid3.png)\n",
    "\n",
    "![D Grid](images/grid4.png)\n",
    "![E Grid](images/grid5.png)\n",
    "Figure Sixteen, Four More Grids.\n",
    "</div>\n",
    "\n",
    "\n",
    "To work with these grids, we must introduce an averaging operator,\n",
    "defined in terms of *half-points* on the grid:\n",
    "$$\\overline{\\alpha}_{mn}^{x} = \\frac{\\alpha_{m+\\frac{1}{2},n} + \\alpha_{m-\\frac{1}{2},n}}{2}$$\n",
    "and modify the difference operator\n",
    "$$(\\delta_{x}\\alpha)_{mn} = \\frac{\\alpha_{m+\\frac{1}{2},n} -\n",
    "  \\alpha_{m-\\frac{1}{2},n}}{d}$$\n"
   ]
  },
  {
   "cell_type": "code",
   "execution_count": null,
   "metadata": {
    "collapsed": true
   },
   "outputs": [],
   "source": []
  }
 ],
 "metadata": {
  "kernelspec": {
   "display_name": "Python 3",
   "language": "python",
   "name": "python3"
  },
  "language_info": {
   "codemirror_mode": {
    "name": "ipython",
    "version": 3
   },
   "file_extension": ".py",
   "mimetype": "text/x-python",
   "name": "python",
   "nbconvert_exporter": "python",
   "pygments_lexer": "ipython3",
   "version": "3.4.3"
  }
 },
 "nbformat": 4,
 "nbformat_minor": 0
}
